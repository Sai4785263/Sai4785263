{
 "cells": [
  {
   "cell_type": "code",
   "execution_count": 118,
   "id": "26300234",
   "metadata": {},
   "outputs": [],
   "source": [
    "from selenium.webdriver.common.action_chains import ActionChains\n",
    "#from optparse import OptionParser\n",
    "from selenium import webdriver\n",
    "from selenium.webdriver.common.keys import Keys\n",
    "import pandas as pd\n",
    "import time\n",
    "import sys\n",
    "import re\n",
    "\n",
    "pattern_name = \"\\\\n(.+)\\\\n\"  # Used to extract names\n",
    "pattern_headline = 'occupation\\\\n(.+)\\\\n'  # Used to extract headlines\n"
   ]
  },
  {
   "cell_type": "code",
   "execution_count": 119,
   "id": "a39beaff",
   "metadata": {},
   "outputs": [],
   "source": [
    "def login(email, password):\n",
    "    driver = webdriver.Chrome('./chromedriver')\n",
    "    driver.get(\"https://www.linkedin.com\")\n",
    "    print(email)\n",
    "    print(password)\n",
    "    session_key = driver.find_element_by_name(\"session_key\")\n",
    "    session_key.send_keys(email)\n",
    "    session_password = driver.find_element_by_name(\"session_password\")\n",
    "    session_password.send_keys(password)\n",
    "    submit = driver.find_element_by_class_name(\"sign-in-form__submit-button\")\n",
    "    submit.click()\n",
    "    #print(driver.title)\n",
    "    if \"LinkedIn\" not in driver.title:\n",
    "        print(\"Provided E-mail/Password is wrong!\")\n",
    "        driver.quit()\n",
    "        sys.exit()\n",
    "  \n",
    "    return driver"
   ]
  },
  {
   "cell_type": "code",
   "execution_count": 120,
   "id": "1c34ae23",
   "metadata": {},
   "outputs": [],
   "source": [
    "def scrap_basic(driver):\n",
    "    driver.get(\"https://www.linkedin.com/mynetwork/invite-connect/connections/\")\n",
    "    time_to_wait = 3  \n",
    "    last_height = driver.execute_script(\"return document.body.scrollHeight\")\n",
    "    while True:\n",
    "        driver.execute_script(\"window.scrollTo(0, document.body.scrollHeight);\")\n",
    "        for i in range(2):\n",
    "            time.sleep(time_to_wait)\n",
    "            driver.execute_script(\"window.scrollTo(0, 0);\")  \n",
    "            time.sleep(time_to_wait)\n",
    "            driver.execute_script(\"window.scrollTo(0, document.body.scrollHeight);\")\n",
    "\n",
    "        new_height = driver.execute_script(\"return document.body.scrollHeight\")  \n",
    "        if new_height == last_height:\n",
    "            break\n",
    "        last_height = new_height\n",
    "    extracted_scrap = driver.find_elements_by_class_name(\"mn-connection-card__details\")\n",
    "    extracted_scrap = [_.text for _ in extracted_scrap]\n",
    "   \n",
    "    names = []\n",
    "    headlines = []\n",
    "    for card in extracted_scrap:\n",
    "        try:\n",
    "            names.append(re.search(pattern_name, card)[0])\n",
    "            #print(re.search(pattern_name, card)[0])\n",
    "        except:\n",
    "            names.append(\" \")\n",
    "        try:\n",
    "            headlines.append(re.search(pattern_headline, card)[0])\n",
    "            #print(re.search(pattern_headline, card)[0])\n",
    "        except:\n",
    "            headlines.append(\" \")\n",
    "    extracted_scrap = driver.find_elements_by_tag_name('a')\n",
    "    links = []\n",
    "    for i in extracted_scrap:\n",
    "        link = i.get_attribute(\"href\")\n",
    "        if \"https://www.linkedin.com/in\" in link and not link in links:\n",
    "            links.append(link)\n",
    "    \n",
    "    return driver, names, headlines, links"
   ]
  },
  {
   "cell_type": "code",
   "execution_count": 121,
   "id": "06c7eee5",
   "metadata": {},
   "outputs": [],
   "source": [
    "def scrap_companies(driver, links):\n",
    "    companies = []\n",
    "    length = len(links)\n",
    "    print(len(links))\n",
    "    for i in range(length):\n",
    "        link = links[i]  \n",
    "        driver.get(link)\n",
    "        time_to_wait = 3\n",
    "        last_height = driver.execute_script(\"return document.body.scrollHeight\")\n",
    "        while True:\n",
    "            driver.execute_script(\"window.scrollTo(0, document.body.scrollHeight);\")\n",
    "            for i in range(2):\n",
    "                time.sleep(time_to_wait)\n",
    "                driver.execute_script(\n",
    "                    \"window.scrollTo(0, document.body.scrollHeight/4);\")\n",
    "                driver.execute_script(\n",
    "                    \"window.scrollTo(0, document.body.scrollHeight/3);\")\n",
    "                driver.execute_script(\n",
    "                    \"window.scrollTo(0, document.body.scrollHeight/2);\")\n",
    "                driver.execute_script(\n",
    "                    \"window.scrollTo(0, document.body.scrollHeight*3/4);\")\n",
    "                time.sleep(time_to_wait)\n",
    "                \n",
    "                driver.execute_script(\n",
    "                    \"window.scrollTo(0, document.body.scrollHeight);\")\n",
    "\n",
    "            new_height = driver.execute_script(\"return document.body.scrollHeight\")  \n",
    "            if new_height == last_height:\n",
    "                break\n",
    "            last_height = new_height\n",
    "\n",
    "        print(link)\n",
    "#         buttons = driver.find_elements_by_tag_name(\"button\")\n",
    "#         lengthb = len(buttons)\n",
    "#         print(lengthb)\n",
    "        \n",
    "        #works = driver.find_element_by_class_name(\"inline-show-more-text inline-show-more-text--is-collapsed inline-show-more-text--is-collapsed-with-line-clamp inline\")\n",
    "        try:\n",
    "            works = driver.find_element_by_xpath(\"//div[starts-with(@aria-label, 'Current company')]\").get_attribute(\"innerHTML\")\n",
    "            companies.append(works)\n",
    "            #print(re.search(pattern_name, card)[0])\n",
    "        except:\n",
    "            companies.append(\"Not working\")\n",
    "    return driver,companies   "
   ]
  },
  {
   "cell_type": "code",
   "execution_count": 122,
   "id": "75325149",
   "metadata": {},
   "outputs": [],
   "source": [
    "def save_to_csv(names, headlines, links, comps):\n",
    "    if comps is None:\n",
    "        comps = [None]*len(names)\n",
    "    df = pd.DataFrame()\n",
    "    for i in range(len(names)-1):\n",
    "        #print(names[i])\n",
    "        df = df.append({\"Name\": names[i], \"Headline\": headlines[i],\"Link\": links[i], \"Companies\": skills[i]}, ignore_index=True)\n",
    "    #print(df.head())\n",
    "    df.to_csv(\"final_dataComp.csv\", index=False, columns=[\"Name\", \"Headline\", \"Link\", \"Companies\"])"
   ]
  },
  {
   "cell_type": "code",
   "execution_count": 123,
   "id": "30b1fd2b",
   "metadata": {},
   "outputs": [
    {
     "name": "stderr",
     "output_type": "stream",
     "text": [
      "<ipython-input-119-0ec8bf917421>:2: DeprecationWarning: executable_path has been deprecated, please pass in a Service object\n",
      "  driver = webdriver.Chrome('./chromedriver')\n"
     ]
    },
    {
     "name": "stdout",
     "output_type": "stream",
     "text": [
      "osjyothi156@gmail.com\n",
      "WkV6edKmpUGj5S6\n"
     ]
    },
    {
     "name": "stderr",
     "output_type": "stream",
     "text": [
      "<ipython-input-119-0ec8bf917421>:6: DeprecationWarning: find_element_by_* commands are deprecated. Please use find_element() instead\n",
      "  session_key = driver.find_element_by_name(\"session_key\")\n",
      "<ipython-input-119-0ec8bf917421>:8: DeprecationWarning: find_element_by_* commands are deprecated. Please use find_element() instead\n",
      "  session_password = driver.find_element_by_name(\"session_password\")\n",
      "<ipython-input-119-0ec8bf917421>:10: DeprecationWarning: find_element_by_* commands are deprecated. Please use find_element() instead\n",
      "  submit = driver.find_element_by_class_name(\"sign-in-form__submit-button\")\n"
     ]
    },
    {
     "name": "stdout",
     "output_type": "stream",
     "text": [
      "Successfull Login!\n",
      "Scrapping connections...\n"
     ]
    },
    {
     "name": "stderr",
     "output_type": "stream",
     "text": [
      "<ipython-input-120-365daf562ed3>:17: DeprecationWarning: find_elements_by_* commands are deprecated. Please use find_elements() instead\n",
      "  extracted_scrap = driver.find_elements_by_class_name(\"mn-connection-card__details\")\n",
      "<ipython-input-120-365daf562ed3>:33: DeprecationWarning: find_elements_by_* commands are deprecated. Please use find_elements() instead\n",
      "  extracted_scrap = driver.find_elements_by_tag_name('a')\n"
     ]
    },
    {
     "name": "stdout",
     "output_type": "stream",
     "text": [
      "Finished basic scrap, scrapped 47\n",
      "Company names scraping start...\n",
      "47\n",
      "https://www.linkedin.com/in/mallika-ambati-06252978/\n"
     ]
    },
    {
     "name": "stderr",
     "output_type": "stream",
     "text": [
      "<ipython-input-121-f240373fbec8>:39: DeprecationWarning: find_element_by_* commands are deprecated. Please use find_element() instead\n",
      "  works = driver.find_element_by_xpath(\"//div[starts-with(@aria-label, 'Current company')]\").get_attribute(\"innerHTML\")\n"
     ]
    },
    {
     "name": "stdout",
     "output_type": "stream",
     "text": [
      "https://www.linkedin.com/in/akiraspann/\n",
      "https://www.linkedin.com/in/jdye/\n",
      "https://www.linkedin.com/in/tim-mckinney-4264b6166/\n",
      "https://www.linkedin.com/in/shy-mccarver-90a838112/\n",
      "https://www.linkedin.com/in/arshawnnawhite/\n",
      "https://www.linkedin.com/in/adekoyejo-odedere-1b7771190/\n",
      "https://www.linkedin.com/in/sitaram-bonduli-ceng-mimeche-630a3422/\n",
      "https://www.linkedin.com/in/natalie-forte/\n",
      "https://www.linkedin.com/in/nikhila-simhadri/\n",
      "https://www.linkedin.com/in/jake-schaller-547245109/\n",
      "https://www.linkedin.com/in/gayathri-dondeti-a16926161/\n",
      "https://www.linkedin.com/in/denzel-prince-4899b71b9/\n",
      "https://www.linkedin.com/in/smunagala24/\n",
      "https://www.linkedin.com/in/adityanival/\n",
      "https://www.linkedin.com/in/bhavani-prasad-kommi-29bb4a232/\n",
      "https://www.linkedin.com/in/prachi-shah-43829a196/\n",
      "https://www.linkedin.com/in/taylor-burgess-99a0981a2/\n",
      "https://www.linkedin.com/in/hannah-haswell-83140718a/\n",
      "https://www.linkedin.com/in/diljaan-shaik-313537bb/\n",
      "https://www.linkedin.com/in/corey-notman-mba-hr-management-655003122/\n",
      "https://www.linkedin.com/in/sravani-nimmagadda-1a57a762/\n",
      "https://www.linkedin.com/in/mounika-ramapuram-naik-7b343091/\n",
      "https://www.linkedin.com/in/hima-bindu-sigili/\n",
      "https://www.linkedin.com/in/wendy-bott-b8796b2/\n",
      "https://www.linkedin.com/in/renee-frank-8476a756/\n",
      "https://www.linkedin.com/in/manjula-rajulapati-2a488877/\n",
      "https://www.linkedin.com/in/sri-gorantla-a9121b204/\n",
      "https://www.linkedin.com/in/waziha-khan/\n",
      "https://www.linkedin.com/in/gurudev-ongole-54517215b/\n",
      "https://www.linkedin.com/in/geethamadhurimalempati/\n",
      "https://www.linkedin.com/in/hema-bobba-678072a3/\n",
      "https://www.linkedin.com/in/nikhil-khandelwal-37a718194/\n",
      "https://www.linkedin.com/in/cole-sutyak-3598781b9/\n",
      "https://www.linkedin.com/in/jay-zhang-8280141aa/\n",
      "https://www.linkedin.com/in/miaoyuwang/\n",
      "https://www.linkedin.com/in/prudhvi-kishan-kotamarthy-02183962/\n",
      "https://www.linkedin.com/in/mitul-rakholiya-a3a6791a/\n",
      "https://www.linkedin.com/in/saikumarchirravuri/\n",
      "https://www.linkedin.com/in/hima-bindu-k-9a7659149/\n",
      "https://www.linkedin.com/in/hemasri-brundavanam-74367188/\n",
      "https://www.linkedin.com/in/lovely12/\n",
      "https://www.linkedin.com/in/gowthami-tallapalli-551a7338/\n",
      "https://www.linkedin.com/in/pavani-barla-58602617a/\n",
      "https://www.linkedin.com/in/priya-kuntamukkala/\n",
      "https://www.linkedin.com/in/anusha-v-a21793a0/\n",
      "https://www.linkedin.com/in/srisomaraju/\n",
      "Finished Skills scrap.\n",
      "Saving to CSV file...\n",
      "Scrapping session has ended.\n"
     ]
    }
   ],
   "source": [
    "if __name__ == \"__main__\":\n",
    "    #(options, args) = parser.parse_args()\n",
    "\n",
    "    # Inputs\n",
    "    email = 'osjyothi156@gmail.com'\n",
    "    password = 'Wksfgagfagfag5S6' # Not original\n",
    "    companies = 's'\n",
    "\n",
    "    driver = login(email, password) \n",
    "    print(\"Successfull Login!\")\n",
    "    print(\"Scrapping connections...\")\n",
    "    driver, names, headlines, links = scrap_basic(driver)  \n",
    "    print(\"Finished scraping basic data, scrapped {}\".format(len(names)))\n",
    "    \n",
    "    \n",
    "\n",
    "    if companies:\n",
    "        print(\"Company names scraping start...\")\n",
    "        driver, comps = scrap_companies(driver, links)  \n",
    "        print(\"Finished Companies scrap.\")\n",
    "        print(\"Saving to CSV file...\")\n",
    "        compdf = save_to_csv(names, headlines, links, comps)  \n",
    "    else:\n",
    "        save_to_csv(names, headlines, links, None)  \n",
    "\n",
    "    print(\"Scrapping session has ended.\")\n",
    "    driver.quit()"
   ]
  }
 ],
 "metadata": {
  "kernelspec": {
   "display_name": "Python 3",
   "language": "python",
   "name": "python3"
  },
  "language_info": {
   "codemirror_mode": {
    "name": "ipython",
    "version": 3
   },
   "file_extension": ".py",
   "mimetype": "text/x-python",
   "name": "python",
   "nbconvert_exporter": "python",
   "pygments_lexer": "ipython3",
   "version": "3.8.8"
  }
 },
 "nbformat": 4,
 "nbformat_minor": 5
}
